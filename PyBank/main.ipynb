{
 "cells": [
  {
   "cell_type": "code",
   "execution_count": 5,
   "id": "59214343-9a0f-4af1-b64b-2d31be3a0e5c",
   "metadata": {},
   "outputs": [],
   "source": [
    "from pathlib import Path"
   ]
  },
  {
   "cell_type": "code",
   "execution_count": 6,
   "id": "166b8976-1bb9-4559-afb8-33eaee495212",
   "metadata": {},
   "outputs": [],
   "source": [
    "import csv"
   ]
  },
  {
   "cell_type": "code",
   "execution_count": 9,
   "id": "9de33ca5-99ea-4e2c-8f0f-49098771038e",
   "metadata": {},
   "outputs": [],
   "source": [
    "filepath = Path(\"./Resources/budget_data.csv\")\n",
    "with open (filepath, 'r') as csvfile:\n",
    "    csvreader = csv.reader(csvfile, delimiter = \",\")\n",
    "    headers = next(csvreader)\n",
    "    \n",
    "    total_month = 0\n",
    "    total = 0\n",
    "    \n",
    "    change = 0\n",
    "    last_month = 0\n",
    "    avg_change = 0\n",
    "    total_change =0\n",
    "    \n",
    "    grt_increase = True\n",
    "    grt_increase_date = 0\n",
    "    \n",
    "    grt_decrease = True\n",
    "    grt_decrease_date = 0\n",
    "    for row in csvreader:\n",
    "        total_month += 1\n",
    "        total += int(row[1])\n",
    "         \n",
    "        #calculate current change\n",
    "        if last_month ==0:\n",
    "            last_month = int(row[1])\n",
    "        \n",
    "        change = int(row[1]) - last_month\n",
    "        \n",
    "        total_change +=change\n",
    "        last_month = int(row[1])\n",
    "        \n",
    "        #find max increase:\n",
    "        if change >= 0:\n",
    "            if grt_increase == True:\n",
    "                grt_increase = change\n",
    "                grt_increase_date = row[0]\n",
    "            elif change > grt_increase:\n",
    "                grt_increase = change\n",
    "                grt_increase_date = row[0]\n",
    "\n",
    "        #find max decrease:\n",
    "        else:\n",
    "            if grt_decrease == True:\n",
    "                grt_decrease = change\n",
    "                grt_decrease_date = row[0]\n",
    "                \n",
    "            elif change < grt_decrease:\n",
    "                grt_decrease = change\n",
    "                grt_decrease_date = row[0]\n",
    "\n",
    "        #note: can use max() and min(), also can create list of records\n",
    "    \n",
    "    #calculate avg change\n",
    "    avg_change = round(total_change / (total_month-1),2)"
   ]
  },
  {
   "cell_type": "code",
   "execution_count": 10,
   "id": "b9f4173e-57ff-4758-a038-0dcc1149786a",
   "metadata": {},
   "outputs": [
    {
     "name": "stdout",
     "output_type": "stream",
     "text": [
      "Financial Analysis\n",
      "----------------------------\n",
      "Total Months: 86\n",
      "Total: $38382578\n",
      "Average  Change: $-2315.12\n",
      "Greatest Increase in Profits: Feb-2012 ($1926159)\n",
      "Greatest Decrease in Profits: Sep-2013 ($-2196167)\n"
     ]
    }
   ],
   "source": [
    "#Print to terminal:\n",
    "print('Financial Analysis')\n",
    "print('----------------------------')\n",
    "print(f'Total Months: {total_month}')\n",
    "print(f'Total: ${total}')\n",
    "print(f'Average  Change: ${avg_change}')\n",
    "print(f'Greatest Increase in Profits: {grt_increase_date} (${grt_increase})')\n",
    "print(f'Greatest Decrease in Profits: {grt_decrease_date} (${grt_decrease})')"
   ]
  },
  {
   "cell_type": "code",
   "execution_count": 11,
   "id": "3ec101dc-3749-416b-811c-76ef01f8202e",
   "metadata": {},
   "outputs": [],
   "source": [
    "output_filepath = Path('./output.txt')\n",
    "\n",
    "with open (output_filepath, 'w') as file:\n",
    "    file.write('Financial Analysis\\n')\n",
    "    file.write('----------------------------\\n')\n",
    "    file.write(f'Total Months: {total_month}\\n')\n",
    "    file.write(f'Total: ${total}\\n')\n",
    "    file.write(f'Average  Change: ${avg_change}\\n')\n",
    "    file.write(f'Greatest Increase in Profits: {grt_increase_date} (${grt_increase})\\n')\n",
    "    file.write(f'Greatest Decrease in Profits: {grt_decrease_date} (${grt_decrease})\\n')"
   ]
  },
  {
   "cell_type": "code",
   "execution_count": null,
   "id": "96433e4f-67d3-4384-94b0-e4637f44c424",
   "metadata": {},
   "outputs": [],
   "source": []
  }
 ],
 "metadata": {
  "kernelspec": {
   "display_name": "dev",
   "language": "python",
   "name": "dev"
  },
  "language_info": {
   "codemirror_mode": {
    "name": "ipython",
    "version": 3
   },
   "file_extension": ".py",
   "mimetype": "text/x-python",
   "name": "python",
   "nbconvert_exporter": "python",
   "pygments_lexer": "ipython3",
   "version": "3.7.13"
  }
 },
 "nbformat": 4,
 "nbformat_minor": 5
}
